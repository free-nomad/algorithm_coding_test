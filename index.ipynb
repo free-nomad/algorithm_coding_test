{
 "cells": [
  {
   "attachments": {},
   "cell_type": "markdown",
   "metadata": {},
   "source": [
    "# 첫째마당 코딩 테스트 준비하기\n",
    "## 01 어떤 알고리즘으로 풀어야 할까?\n",
    "### 01-1 시간 복잡도 표기법 알아보기\n",
    "### 01-2 시간 복잡도 활용하기\n",
    "## 02 코드의 논리 오류를 어떻게 잡을까?\n",
    "### 02-1 디버깅은 왜 중요할까?\n",
    "### 02-2 디버깅 활용 사례 살펴보기"
   ]
  },
  {
   "attachments": {},
   "cell_type": "markdown",
   "metadata": {},
   "source": [
    "# 둘째마당 Do it! 코딩 테스트 - 기초 편\n",
    "## 03 자료구조\n",
    "### 03-1 배열과 리스트\n",
    "* 001 숫자의 합 구하기\n",
    "* 002 평균 구하기\n",
    "### 03-2 구간 합\n",
    "* 003 구간 합 구하기 1\n",
    "* 004 구간 합 구하기 2"
   ]
  },
  {
   "attachments": {},
   "cell_type": "markdown",
   "metadata": {},
   "source": []
  }
 ],
 "metadata": {
  "language_info": {
   "name": "python"
  },
  "orig_nbformat": 4
 },
 "nbformat": 4,
 "nbformat_minor": 2
}
