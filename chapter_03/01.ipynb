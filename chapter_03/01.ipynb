{
 "cells": [
  {
   "attachments": {},
   "cell_type": "markdown",
   "metadata": {},
   "source": [
    "# 03 - 1 배열과 리스트"
   ]
  },
  {
   "attachments": {},
   "cell_type": "markdown",
   "metadata": {},
   "source": [
    "## 배열과 리스트의 핵심 이론\n",
    "### 배열\n",
    "* 배열은 메모리의 연속 공간에 값이 채워져 있는 형태의 자료구조이다.\n",
    "* 배열의 값은 인덱스를 통해 참조할 수 있으며, 선언한 자료형의 값만 저장할 수 있다.\n",
    "* 배열의 특징\n",
    "1. 인덱스를 사용하여 값에 바로 접근할 수 있다.\n",
    "2. 새로운 값을 삽입하거나 특정 인덱스에 있는 값을 삭제하기 어렵다. 값을 삽입하거나 삭제하려면 해당 인덱스 주변에 있는 값을 이동시키는 과정이 필요하다.\n",
    "3. 배열의 크기는 지정할 수 있으며, 한 번 선언하면 크기를 늘리거나 줄일 수 없다.\n",
    "4. 구조가 간단하므로 코딩 테스트에서 많이 사용한다.\n",
    "\n",
    "### 리스트\n",
    "* 리스트는 값과 포인터를 묶은 노드라는 것을 포인터로 연결한 자료구조이다.\n",
    "* 노드는 컴퓨터 과학에서 값, 포인터를 쌍으로 갖는 기초 단위를 부르는 말이다.\n",
    "* 특징\n",
    "1. 인덱스가 없으므로 값에 접근하려면 Head 포인터부터 순서대로 접근해야 한다. 다시 말해 값에 접근하는 속도가 느리다.\n",
    "2. 포인터로 연결되어 있으므로 데이터를 삽입하거나 삭제하는 연산 속도가 빠르다.\n",
    "3. 선언할 때 크기를 별도로 지정하지 않아도 된다. 다시 말해 리스트의 크기는 정해져 있지 않으며, 크기가 변하기 쉬운 데이터를 다룰 때 적절하다.\n",
    "4. 포인터를 저장할 공간이 필요하므로 배열보다 구조가 복잡하다."
   ]
  },
  {
   "attachments": {},
   "cell_type": "markdown",
   "metadata": {},
   "source": [
    "## 문제 001 숫자의 합 구하기 - 백준 온라인 저지 11720번"
   ]
  },
  {
   "attachments": {},
   "cell_type": "markdown",
   "metadata": {},
   "source": [
    "01 단계 문제 분석하기\n",
    "* 파이썬의 리스트 자료구조를 통해 해결\n",
    "* 주어진 숫자를 리스트의 형태로 저장한 뒤 해당 리스트를 index를 이용해 탐색하면서 각 자릿수의 값을 더하기\n",
    "* 자릿수를 더할 때는 정수형으로 변환해 더하기\n",
    "\n",
    "02 단계 손으로 풀어 보기\n",
    "1. 숫자의 개수만큼 입력받은 값을 리스트 형태로 저장하기\n",
    "nubmers = '10987654321'\n",
    "\n",
    "2. numbers 리스트를 탐색하며 각 값을 정수형으로 변환하여 결괏값에 더하여 누적하기\n",
    "\n",
    "03 단계 슈도코드 작성하기\n",
    "* n값 받기\n",
    "* nubers 변수에 list 함수를 이용하여 숫자를 한 자리씩 나누어 받기\n",
    "* sum 변수 선언\n",
    "\n",
    "* for numbers 탐색:\n",
    "*    sum 변수에 nubmers에 있는 각 자릿수를 가져와 더하기\n",
    "\n",
    "* sum 출력"
   ]
  },
  {
   "cell_type": "code",
   "execution_count": 2,
   "metadata": {},
   "outputs": [
    {
     "name": "stdout",
     "output_type": "stream",
     "text": [
      "46\n"
     ]
    }
   ],
   "source": [
    "# 04 단계 코드 구현하기\n",
    "\n",
    "n = input()\n",
    "numbers = list(input())\n",
    "sum = 0\n",
    "\n",
    "for i in numbers:\n",
    "    sum = sum + int(i)\n",
    "\n",
    "print(sum)"
   ]
  }
 ],
 "metadata": {
  "kernelspec": {
   "display_name": "Python 3",
   "language": "python",
   "name": "python3"
  },
  "language_info": {
   "codemirror_mode": {
    "name": "ipython",
    "version": 3
   },
   "file_extension": ".py",
   "mimetype": "text/x-python",
   "name": "python",
   "nbconvert_exporter": "python",
   "pygments_lexer": "ipython3",
   "version": "3.9.13"
  },
  "orig_nbformat": 4
 },
 "nbformat": 4,
 "nbformat_minor": 2
}
