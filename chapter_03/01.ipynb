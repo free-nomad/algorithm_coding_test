{
 "cells": [
  {
   "attachments": {},
   "cell_type": "markdown",
   "metadata": {},
   "source": [
    "# 문제 001 숫자의 합 구하기 11720번"
   ]
  },
  {
   "cell_type": "code",
   "execution_count": null,
   "metadata": {
    "vscode": {
     "languageId": "plaintext"
    }
   },
   "outputs": [],
   "source": [
    "# 코드 작성\n",
    "\n",
    "num = int(input())\n",
    "n = input()\n",
    "sum = 0\n",
    "\n",
    "for i in range(num):\n",
    "    int_num = int(n[i])\n",
    "    sum += int_num\n",
    "    \n",
    "print(sum)"
   ]
  }
 ],
 "metadata": {
  "language_info": {
   "name": "python"
  },
  "orig_nbformat": 4
 },
 "nbformat": 4,
 "nbformat_minor": 2
}
