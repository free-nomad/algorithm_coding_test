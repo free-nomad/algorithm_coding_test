{
 "cells": [
  {
   "cell_type": "markdown",
   "metadata": {},
   "source": [
    "# 문제 006 연속된 자연수의 합 구하기 2018번"
   ]
  },
  {
   "cell_type": "code",
   "execution_count": 1,
   "metadata": {},
   "outputs": [
    {
     "name": "stdout",
     "output_type": "stream",
     "text": [
      "4\n"
     ]
    }
   ],
   "source": [
    "n = int(input())\n",
    "count = 1\n",
    "start_index = 1\n",
    "end_index = 1\n",
    "sum = 1\n",
    "\n",
    "while end_index != n:\n",
    "    if sum == n: # 정답 케이스\n",
    "        count += 1\n",
    "        end_index += 1\n",
    "        sum += end_index\n",
    "    elif sum > n:\n",
    "        sum -= start_index\n",
    "        start_index += 1\n",
    "    else: # sum < m\n",
    "        end_index += 1\n",
    "        sum += end_index\n",
    "\n",
    "print(count)"
   ]
  },
  {
   "cell_type": "code",
   "execution_count": null,
   "metadata": {},
   "outputs": [],
   "source": [
    "# 15\n",
    "# 1~5\n",
    "# 4~6\n",
    "# 7~8"
   ]
  }
 ],
 "metadata": {
  "kernelspec": {
   "display_name": "Python 3",
   "language": "python",
   "name": "python3"
  },
  "language_info": {
   "codemirror_mode": {
    "name": "ipython",
    "version": 3
   },
   "file_extension": ".py",
   "mimetype": "text/x-python",
   "name": "python",
   "nbconvert_exporter": "python",
   "pygments_lexer": "ipython3",
   "version": "3.9.12"
  },
  "orig_nbformat": 4
 },
 "nbformat": 4,
 "nbformat_minor": 2
}
