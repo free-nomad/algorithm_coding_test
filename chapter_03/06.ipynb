{
 "cells": [
  {
   "attachments": {},
   "cell_type": "markdown",
   "metadata": {},
   "source": [
    "# 03-3 투 포인터"
   ]
  },
  {
   "attachments": {},
   "cell_type": "markdown",
   "metadata": {},
   "source": [
    "투 포인터는 2개의 포인터로 알고리즘의 시간 복잡도를 최적화한다."
   ]
  },
  {
   "attachments": {},
   "cell_type": "markdown",
   "metadata": {},
   "source": [
    "## 문제 006 연속된 자연수의 합 구하기"
   ]
  },
  {
   "attachments": {},
   "cell_type": "markdown",
   "metadata": {},
   "source": [
    "01단계 문제 분석하기\n",
    "1. 알고리즘의 범위부터 줄여야 한다.\n",
    "2. 투 포인터 사용하기\n",
    "\n",
    "02단계 손으로 풀어 보기\n",
    "1. 입력받은 값을 N에 저장한 후 코드에서 사용할 변수를 모두 초기화한다. 결과 변수 count를 1로 초기화하는 이유는 N이 15일 때 숫자 15만 뽑는 경우의 수를 미리 넣고 초기화했기 때문입니다.\n",
    "2. 투 포인터 이동 원칙\n",
    "* sum > N: sum = sum - start_index; start_index++;\n",
    "* sum < N: end_index++; sum = sum + end_index;\n",
    "* sum == N: end_index++; sum = sum + end_index; count++;\n",
    "3. 2단계를 end_index가 N이 될 때까지 반복하되, 포인터가 이동할 때마다 현재의 총합과 N을 비교해 값이 같으면 count를 1만큼 증가시킨다."
   ]
  },
  {
   "cell_type": "code",
   "execution_count": 1,
   "metadata": {},
   "outputs": [
    {
     "data": {
      "text/plain": [
       "'\\nn 변수 저장\\n사용 변수 초기화(count=1, start_index=1, end_index=1, sum1)\\n\\nwhile end_index != n:\\n    if sum == n: 경우의 수 증가, end_index 증가, sum값 변경\\n    elif sum > n: sum값 변경, start_index 증가\\n    else: end_index 증가, sum값 변경\\n\\n경우의 수 출력\\n'"
      ]
     },
     "execution_count": 1,
     "metadata": {},
     "output_type": "execute_result"
    }
   ],
   "source": [
    "# 03단계 슈도코드 작성하기\n",
    "'''\n",
    "n 변수 저장\n",
    "사용 변수 초기화(count=1, start_index=1, end_index=1, sum1)\n",
    "\n",
    "while end_index != n:\n",
    "    if sum == n: 경우의 수 증가, end_index 증가, sum값 변경\n",
    "    elif sum > n: sum값 변경, start_index 증가\n",
    "    else: end_index 증가, sum값 변경\n",
    "\n",
    "경우의 수 출력\n",
    "'''"
   ]
  },
  {
   "cell_type": "code",
   "execution_count": null,
   "metadata": {},
   "outputs": [],
   "source": [
    "# 04단계 코드 구현하기\n",
    "n = int(input())\n",
    "count = 1\n",
    "start_index = 1\n",
    "end_index = 1\n",
    "sum = 1\n",
    "\n",
    "while end_index != n:\n",
    "    if sum == n:  #정답 케이스\n",
    "        count += 1\n",
    "        end_index += 1\n",
    "        sum += end_index\n",
    "    elif sum > n:\n",
    "        sum -= start_index\n",
    "        start_index += 1\n",
    "    else:\n",
    "        end_index += 1\n",
    "        sum += end_index\n",
    "\n",
    "print(count)"
   ]
  }
 ],
 "metadata": {
  "kernelspec": {
   "display_name": "Python 3",
   "language": "python",
   "name": "python3"
  },
  "language_info": {
   "codemirror_mode": {
    "name": "ipython",
    "version": 3
   },
   "file_extension": ".py",
   "mimetype": "text/x-python",
   "name": "python",
   "nbconvert_exporter": "python",
   "pygments_lexer": "ipython3",
   "version": "3.9.13"
  },
  "orig_nbformat": 4
 },
 "nbformat": 4,
 "nbformat_minor": 2
}
