{
 "cells": [
  {
   "attachments": {},
   "cell_type": "markdown",
   "metadata": {},
   "source": [
    "# 03-2 구간 합"
   ]
  },
  {
   "attachments": {},
   "cell_type": "markdown",
   "metadata": {},
   "source": [
    "* 구간 합은 합 배열을 이용하여 시간 복잡도를 더 줄이기 위해 사용하는 특수한 목적의 알고리즘이다."
   ]
  },
  {
   "attachments": {},
   "cell_type": "markdown",
   "metadata": {},
   "source": [
    "## 구간 합의 핵심 이론"
   ]
  },
  {
   "attachments": {},
   "cell_type": "markdown",
   "metadata": {},
   "source": [
    "* 구간 합 알고리즘을 활용하려면 먼저 합 배열을 구해야 한다.\n",
    "1. 합 배열 S 정의\n",
    "S[i] = A[0] + A[1] + ... + A[i-1] + A[i]\n",
    "2. 합 배열 S를 만드는 공식\n",
    "S[i] = S[i-1] + A[i]\n",
    "3. 구간 합을 구하는 공식\n",
    "S[j] - S[i-1]\n",
    "4. A[2] ~ A[5] 구간 합을 합 배열로 구하는 과정\n",
    "S[5] = A[0] + A[1] + A[2] + A[3] + A[4] + A[5]\n",
    "S[1] = A[0] + A[1]\n",
    "S[5] - S[1] = A[2] + A[3] + A[4] + A[5] "
   ]
  },
  {
   "attachments": {},
   "cell_type": "markdown",
   "metadata": {},
   "source": [
    "## 문제 003 구간 합 구하기 1 - 백준 온라인 저지 11659번"
   ]
  },
  {
   "attachments": {},
   "cell_type": "markdown",
   "metadata": {},
   "source": [
    "01단계 문제 분석하기\n",
    "* 구간 합 개념을 적용하는 가장 기본적인 문제이다.\n",
    "\n",
    "02단계 손으로 풀어 보기\n",
    "1. N개의 수를 입력받음과 동시에 합 배열을 생성한다.\n",
    "2. 구간 i~j가 주어지면 구간 합을 구하는 공식으로 정답을 출력한다."
   ]
  },
  {
   "cell_type": "code",
   "execution_count": null,
   "metadata": {},
   "outputs": [],
   "source": [
    "# 03단계 슈코드 작성하기\n",
    "# suNo(숫자 개수), quizNo(질의 개수)\n",
    "# numbers 변수에 숫자 데이터 저장\n",
    "# prefix_sum 합 배열 변수 선언\n",
    "# temp 변수 선언\n",
    "\n",
    "# for 저장한 숫자 데이터 차례대로 탐색:\n",
    "#   temp에 현재 숫자 데이터 더해 주기\n",
    "#   합 배열에 temp값 저장\n",
    "\n",
    "# for 질의 개수만큼 반복:\n",
    "#   질의 범위 받기(s ~ e)\n",
    "#   구간 합 출력하기(prefix_sum[e] - prefix_sum[s - 1])"
   ]
  },
  {
   "cell_type": "code",
   "execution_count": 1,
   "metadata": {},
   "outputs": [],
   "source": [
    "# 04단계 코드 구현하기\n",
    "import sys\n",
    "input = sys.stdin.readline\n",
    "suNo, quizNo = map(int, input().split())\n",
    "numbers = list(map(int, input().split()))\n",
    "prefix_sum = [0]\n",
    "temp = 0\n",
    "\n",
    "for i in numbers:\n",
    "    temp = temp + i\n",
    "    prefix_sum.append(temp)\n",
    "\n",
    "for i in range(quizNo):\n",
    "    s, e = map(int, input().split())\n",
    "    print(prefix_sum[e] -  prefix_sum[s-1])"
   ]
  }
 ],
 "metadata": {
  "kernelspec": {
   "display_name": "Python 3",
   "language": "python",
   "name": "python3"
  },
  "language_info": {
   "codemirror_mode": {
    "name": "ipython",
    "version": 3
   },
   "file_extension": ".py",
   "mimetype": "text/x-python",
   "name": "python",
   "nbconvert_exporter": "python",
   "pygments_lexer": "ipython3",
   "version": "3.9.13"
  },
  "orig_nbformat": 4
 },
 "nbformat": 4,
 "nbformat_minor": 2
}
