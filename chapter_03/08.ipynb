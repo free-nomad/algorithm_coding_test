{
 "cells": [
  {
   "cell_type": "markdown",
   "metadata": {},
   "source": [
    "# 문제 008 '좋은 수' 구하기 1253번"
   ]
  },
  {
   "cell_type": "code",
   "execution_count": 1,
   "metadata": {},
   "outputs": [],
   "source": [
    "# import sys\n",
    "# input = sys.stdin.readline"
   ]
  },
  {
   "cell_type": "code",
   "execution_count": 3,
   "metadata": {},
   "outputs": [
    {
     "name": "stdout",
     "output_type": "stream",
     "text": [
      "8\n"
     ]
    }
   ],
   "source": [
    "N = int(input())\n",
    "Result = 0\n",
    "A = list(map(int, input().split()))\n",
    "A.sort()\n",
    "\n",
    "for k in range(N):\n",
    "    find = A[k]\n",
    "    i = 0\n",
    "    j = N - 1\n",
    "    while i < j:\n",
    "        if A[i] + A[j] == find:\n",
    "            if i != k and j != k:\n",
    "                Result += 1\n",
    "                break\n",
    "            elif i == k:\n",
    "                i += 1\n",
    "            elif j == k:\n",
    "                j -= 1\n",
    "        elif A[i] + A[j] < find:\n",
    "            i += 1\n",
    "        else:\n",
    "            j -= 1\n",
    "print(Result)"
   ]
  }
 ],
 "metadata": {
  "kernelspec": {
   "display_name": "Python 3",
   "language": "python",
   "name": "python3"
  },
  "language_info": {
   "codemirror_mode": {
    "name": "ipython",
    "version": 3
   },
   "file_extension": ".py",
   "mimetype": "text/x-python",
   "name": "python",
   "nbconvert_exporter": "python",
   "pygments_lexer": "ipython3",
   "version": "3.9.12"
  },
  "orig_nbformat": 4
 },
 "nbformat": 4,
 "nbformat_minor": 2
}
