{
 "cells": [
  {
   "attachments": {},
   "cell_type": "markdown",
   "metadata": {},
   "source": [
    "## 문제 005 나머지 합 구하기 - 백준 온라인 저지 10986번"
   ]
  },
  {
   "attachments": {},
   "cell_type": "markdown",
   "metadata": {},
   "source": [
    "01단계 문제 분석하기\n",
    "* 나머지 합 문제 풀이의 핵심 아이디어\n",
    "1. (A+B) % C는 ((A%C) + (B%C)) % C와 같다. 다시 말해 특정 구간 수들의 나머지 연산을 더해 나머지 연산을 한 값과 이 구간 합의 나머지 연산을 한 값은 동일하다.\n",
    "2. 구간 합 배열을 이용한 식 S[j] - S[i]는 원본 리스트의 i + 1부터 j까지의 구간 합이다.\n",
    "3. S[j] % M의 값과 S[i] % M의 값이 같다면 (S[j] - S[i]) % M은 0이다. 즉, 구간 합 배열의 원소를 M으로 나눈 나머지로 업데이트하고 S[i]와 S[i]가 같은 (i, j)쌍을 찾으면 원본 리스트에서 i + 1 부터 j까지의 구간 합이 M으로 나누어떨어진다는 것을 알 수 있다.\n",
    "\n",
    "02단계 손으로 풀어 보기\n",
    "1. 리스트 A의 합 배열 S를 생성한다.\n",
    "2. 합 배열 S의 모든 값을 M(3)으로 나머지 연산을 수행해 값을 업데이트한다.\n",
    "3. 우선 변경된 합 배열에서 원소 값이 0인 개수만 세어 정답에 더한다. 변경된 합 배열의 원소 값이 0이라는 뜻은 원본 리스트의 0부터 i까지의 구간 합이 이미 M으로 나누어 떨어진다는 뜻이기 때문이다.\n",
    "4. 이제 변경된 합 배열에서 원소 값이 같은 인덱스의 개수, 즉 나머지 값이 같은 합 배열의 개수를 센다. 변경된 합 배열에서 원소 값이 같은 2개의 원소를 뽑는 모든 경우의 수를 구하여 정답에 더하면 된다. "
   ]
  },
  {
   "cell_type": "code",
   "execution_count": 1,
   "metadata": {},
   "outputs": [
    {
     "data": {
      "text/plain": [
       "'\\nn 입력받기(수열의 개수)\\nm 입력받기(나누어떨어져야 하는 수)\\nA 입력받기(원본 수열 저장 리스트)\\nS 선언하기(합 배열)\\nC 선언하기(같은 나머지의 인덱스를 카운트하는 리스트)\\nanswer 선언하기(정답 변수)\\n\\nfor i -> 1 ~ n - 1:\\n    S[i] = S[i-1] + A[i] # 합 배열 저장\\n\\nfor i -> 0 ~ n - 1:\\n    remainder = S[i] % M # 합 배열을 M으로 나눈 나머지 값\\n    if(remainder == 0) 정답을 1 증가\\n    C[remainder]의 갑승ㄹ 1 증가\\n\\nfor i -> 0 ~ m -1 :\\n    C[i](i가 나머지인 인덱스의 개수)에서 2가지를 뽑는 경우의 수를 정답에 더하기\\n    # C[i]개 중 2개를 뽑는 경우의 수 계산 공식 C[i] * (C[i]-1)/2\\n\\n결괏값(answer) 출력    \\n'"
      ]
     },
     "execution_count": 1,
     "metadata": {},
     "output_type": "execute_result"
    }
   ],
   "source": [
    "# 03단계 슈도코드 작성하기\n",
    "'''\n",
    "n 입력받기(수열의 개수)\n",
    "m 입력받기(나누어떨어져야 하는 수)\n",
    "A 입력받기(원본 수열 저장 리스트)\n",
    "S 선언하기(합 배열)\n",
    "C 선언하기(같은 나머지의 인덱스를 카운트하는 리스트)\n",
    "answer 선언하기(정답 변수)\n",
    "\n",
    "for i -> 1 ~ n - 1:\n",
    "    S[i] = S[i-1] + A[i] # 합 배열 저장\n",
    "\n",
    "for i -> 0 ~ n - 1:\n",
    "    remainder = S[i] % M # 합 배열을 M으로 나눈 나머지 값\n",
    "    if(remainder == 0) 정답을 1 증가\n",
    "    C[remainder]의 갑승ㄹ 1 증가\n",
    "\n",
    "for i -> 0 ~ m -1 :\n",
    "    C[i](i가 나머지인 인덱스의 개수)에서 2가지를 뽑는 경우의 수를 정답에 더하기\n",
    "    # C[i]개 중 2개를 뽑는 경우의 수 계산 공식 C[i] * (C[i]-1)/2\n",
    "\n",
    "결괏값(answer) 출력\n",
    "'''"
   ]
  },
  {
   "cell_type": "code",
   "execution_count": null,
   "metadata": {},
   "outputs": [],
   "source": [
    "# 04단계 코드 구현하기\n",
    "\n",
    "import sys\n",
    "imput = sys.stdin.readline\n",
    "n, m = map(int, input().split())\n",
    "A = list(map(int, input().split()))\n",
    "S = [0] * n\n",
    "C = [0] * m\n",
    "S[0] = A[0]\n",
    "answer = 0\n",
    "\n",
    "for i in range(1, n):\n",
    "    S[i] = S[i - n] + A[i]\n",
    "\n",
    "for i in range(n):\n",
    "    remainder = S[i] % m\n",
    "    if remainder == 0:\n",
    "        answer += 1\n",
    "    C[remainder] += 1\n",
    "\n",
    "for i in range(m):\n",
    "    if C[i] > 1:\n",
    "        answer += (C[i] * (C[i] - 1) // 2)\n",
    "\n",
    "print(answer)"
   ]
  }
 ],
 "metadata": {
  "kernelspec": {
   "display_name": "Python 3",
   "language": "python",
   "name": "python3"
  },
  "language_info": {
   "codemirror_mode": {
    "name": "ipython",
    "version": 3
   },
   "file_extension": ".py",
   "mimetype": "text/x-python",
   "name": "python",
   "nbconvert_exporter": "python",
   "pygments_lexer": "ipython3",
   "version": "3.9.13"
  },
  "orig_nbformat": 4
 },
 "nbformat": 4,
 "nbformat_minor": 2
}
