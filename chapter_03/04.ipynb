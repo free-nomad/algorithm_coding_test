{
 "cells": [
  {
   "attachments": {},
   "cell_type": "markdown",
   "metadata": {},
   "source": [
    "# 문제 004 구간 합 구하기 2 11660번"
   ]
  },
  {
   "cell_type": "code",
   "execution_count": 10,
   "metadata": {},
   "outputs": [],
   "source": [
    "# import sys\n",
    "# input = sys.stdin.readline\n",
    "n, m = map(int, input().split())\n",
    "A = [[0] * (n + 1)]\n",
    "D = [[0] * (n + 1) for _ in range(n + 1)]\n",
    "\n",
    "for i in range(n):\n",
    "    A_row = [0] + [int(x) for  x in input().split()]\n",
    "    A.append(A_row)\n",
    "\n",
    "for i in range(1, n + 1):\n",
    "    for j in range(1, n + 1):\n",
    "        D[i][j] = D[i][j-1] + D[i-1][j] - D[i-1][j-1] + A[i][j]\n",
    "\n",
    "for _ in range(m):\n",
    "    x1, y1, x2, y2 = map(int, input().split())\n",
    "    result = D[x2][y2] - D[x1-1][y2] - D[x2][y1-1] + D[x1-1][y1-1]\n",
    "    print(result)"
   ]
  },
  {
   "cell_type": "code",
   "execution_count": 5,
   "metadata": {},
   "outputs": [
    {
     "data": {
      "text/plain": [
       "[[0, 0, 0, 0, 0],\n",
       " [0, 1, 2, 3, 4],\n",
       " [0, 2, 3, 4, 5],\n",
       " [0, 3, 4, 5, 6],\n",
       " [0, 4, 5, 6, 7]]"
      ]
     },
     "execution_count": 5,
     "metadata": {},
     "output_type": "execute_result"
    }
   ],
   "source": [
    "A"
   ]
  },
  {
   "cell_type": "code",
   "execution_count": 11,
   "metadata": {},
   "outputs": [
    {
     "data": {
      "text/plain": [
       "[[0, 0, 0, 0, 0],\n",
       " [0, 1, 3, 6, 10],\n",
       " [0, 3, 8, 15, 24],\n",
       " [0, 6, 15, 27, 42],\n",
       " [0, 10, 24, 42, 64]]"
      ]
     },
     "execution_count": 11,
     "metadata": {},
     "output_type": "execute_result"
    }
   ],
   "source": [
    "D"
   ]
  },
  {
   "cell_type": "code",
   "execution_count": 7,
   "metadata": {},
   "outputs": [
    {
     "data": {
      "text/plain": [
       "[[0, 0, 0, 0, 0],\n",
       " [0, 0, 0, 0, 0],\n",
       " [0, 0, 0, 0, 0],\n",
       " [0, 0, 0, 0, 0],\n",
       " [0, 0, 0, 0, 0]]"
      ]
     },
     "execution_count": 7,
     "metadata": {},
     "output_type": "execute_result"
    }
   ],
   "source": [
    "D"
   ]
  },
  {
   "cell_type": "code",
   "execution_count": null,
   "metadata": {},
   "outputs": [],
   "source": []
  }
 ],
 "metadata": {
  "kernelspec": {
   "display_name": "Python 3",
   "language": "python",
   "name": "python3"
  },
  "language_info": {
   "codemirror_mode": {
    "name": "ipython",
    "version": 3
   },
   "file_extension": ".py",
   "mimetype": "text/x-python",
   "name": "python",
   "nbconvert_exporter": "python",
   "pygments_lexer": "ipython3",
   "version": "3.9.13"
  },
  "orig_nbformat": 4
 },
 "nbformat": 4,
 "nbformat_minor": 2
}
