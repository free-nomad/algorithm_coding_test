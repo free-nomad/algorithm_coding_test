{
 "cells": [
  {
   "attachments": {},
   "cell_type": "markdown",
   "metadata": {},
   "source": [
    "## 문제 004 구간 합 구하기 2 - 백준 온라인 저지 11660번"
   ]
  },
  {
   "attachments": {},
   "cell_type": "markdown",
   "metadata": {},
   "source": [
    "01단계 문제 분석하기\n",
    "1. 질의마다 합을 구하면 안 된다. 따라서 구간 합 배열을 이용해야 한다.\n",
    "2. 구간 합 배열이 1차원에서 2차원으로 확정된 것으로 생각하여 구간 합 배열을 어떻게 구성할지 고민하는 것이 이 문제의 핵심\n",
    "3. 2차원 구간 합 배열 D[X][Y]정의\n",
    "4. D[X][Y] = 원본 배열의 (0, 0) 부터 (X, Y)까지의 사각형 영역 안에 있는 수의 합\n",
    "\n",
    "02단계 손으로 풀어 보기\n",
    "1. 2차원 구간 합 배열의 1행, 1열부터 구한다.\n",
    "2. 나머지 2차원 구간 합 배열을 채운다.\n",
    "3. D[i][j] = D[i][j-1] + D[i-1][j] - D[i-1][j-1] + A[i][j]"
   ]
  },
  {
   "cell_type": "code",
   "execution_count": null,
   "metadata": {},
   "outputs": [],
   "source": [
    "# 03단계 슈도코드 작성하기\n",
    "# n(리스트 크기) m(질의 수)\n",
    "# A(원본 리스트), D(합 배열)\n",
    "\n",
    "# for n만큼 반복:\n",
    "#   for j를 1부터 n까지 반복:\n",
    "#       합 배열 저장\n",
    "#       D[i][j] = D[i][j-1] + D[i-1][j] - D[i-1][j-1] + A[i][j]\n",
    "\n",
    "# for m만큼 반복:\n",
    "#   질의에 대한 결과 계산 및 출력\n",
    "#   결과 = D[x2][y2] - D[x1-1][y2] - D[x2][y1-1] + D[x1-1][y1-1]"
   ]
  },
  {
   "cell_type": "code",
   "execution_count": null,
   "metadata": {},
   "outputs": [],
   "source": [
    "# 04단계 코드 구현하기\n",
    "import sys\n",
    "input = sys.stdin.readline\n",
    "n, m = map(int, input().split())\n",
    "A = [[0] * (n + 1)]\n",
    "D = [[0] * (n + 1) for _ in range(n + 1)]\n",
    "\n",
    "for i in range(n):\n",
    "    A_row = [0] + [int(x) for x in input().split()]\n",
    "    A.append(A_row)\n",
    "\n",
    "for i in range(1, n + 1):\n",
    "    for j in range(1, n + 1):\n",
    "        # 합 배열 구하기\n",
    "        D[i][j] = D[i][j-1] + D[i-1][j] - D[i-1][j-1] + A[i][j]\n",
    "\n",
    "for _ in range(m):\n",
    "    x1, y1, x2, y2 = map(int, input().split())\n",
    "    # 구간 합 배열로 질의에 답변\n",
    "    result = D[x2][y2] - D[x1-1][y2] - D[x2][y1-1] + D[x1-1][y1-1]\n",
    "    print(result)"
   ]
  }
 ],
 "metadata": {
  "kernelspec": {
   "display_name": "Python 3",
   "language": "python",
   "name": "python3"
  },
  "language_info": {
   "name": "python",
   "version": "3.9.13"
  },
  "orig_nbformat": 4
 },
 "nbformat": 4,
 "nbformat_minor": 2
}
