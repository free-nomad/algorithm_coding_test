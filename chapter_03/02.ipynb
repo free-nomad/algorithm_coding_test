{
 "cells": [
  {
   "attachments": {},
   "cell_type": "markdown",
   "metadata": {},
   "source": [
    "## 문제 002 평균 구하기 - 백준 온라인 저지 1546번"
   ]
  },
  {
   "attachments": {},
   "cell_type": "markdown",
   "metadata": {},
   "source": [
    "01단계 문제 분석하기\n",
    "* 최고점을 별도로 저장하기\n",
    "* 한 과목의 점수를 계산하는 식은 총합과 관련된 식으로 변환할 수 있다.\n",
    "* 일일이 변환 점수를 구할 필요 없이 한 번에 변환한 점수의 평균 점수를 구할 수 있다.\n",
    "\n",
    "변환 점수의 평균을 구하는 식(점수가 A,B,C인 경우)\n",
    "(A / M * 100 + B / M * 100 + C / M * 100) / 3 = (A + B + C) * 100 / M / 3\n",
    "\n",
    "02단계 손으로 풀어 보기\n",
    "1. 점수를 1차원 리스트에 저장한다.\n",
    "2. 리스트를 탐색하며 최고 점수와 점수의 총합을 구한다.\n",
    "3. '총합 * 100 / 최고 점수 / 과목의 수'를 계산해 다시 계산한 점수의 평균값을 출력한다.\n",
    "\n",
    "03단계 슈도코드 작성하기\n",
    "* n에 과목의 수 입력\n",
    "* mylist에 점수 정보 저장\n",
    "* mymadx에 mylist 정보 중 최댓값 저장\n",
    "* sum에 mylist 모든 데이터 값 더하기\n",
    "* sum * 100 / mymax / n 출력\n"
   ]
  },
  {
   "cell_type": "code",
   "execution_count": 1,
   "metadata": {},
   "outputs": [
    {
     "name": "stdout",
     "output_type": "stream",
     "text": [
      "[40, 80, 60]\n",
      "75.0\n"
     ]
    }
   ],
   "source": [
    "# 04단계 \n",
    "\n",
    "n = input()\n",
    "mylist = list(map(int, input().split()))\n",
    "print(mylist)\n",
    "mymax = max(mylist)\n",
    "sum = sum(mylist)\n",
    "print(sum*100 / mymax / int(n))"
   ]
  }
 ],
 "metadata": {
  "kernelspec": {
   "display_name": "Python 3",
   "language": "python",
   "name": "python3"
  },
  "language_info": {
   "codemirror_mode": {
    "name": "ipython",
    "version": 3
   },
   "file_extension": ".py",
   "mimetype": "text/x-python",
   "name": "python",
   "nbconvert_exporter": "python",
   "pygments_lexer": "ipython3",
   "version": "3.9.13"
  },
  "orig_nbformat": 4
 },
 "nbformat": 4,
 "nbformat_minor": 2
}
