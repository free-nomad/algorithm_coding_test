{
 "cells": [
  {
   "cell_type": "code",
   "execution_count": 1,
   "metadata": {},
   "outputs": [],
   "source": [
    "# 슈돜코드 작성하기\n",
    "# n(리스트 크기) m(질의 수)\n",
    "# A(원본 리스트) D(합 배열)\n",
    "\n",
    "# for n만큼 반복:\n",
    "#   원본 리스트 데이터 저장\n",
    "\n",
    "# for i를 1부터 n까지 반복:\n",
    "#   for j를 1부터 n까지 반복:\n",
    "#       합 배열 저장\n",
    "#           D[i][j] = D[i][j-1] + D[i-1][j] - D[i-1][j-1] + A[i][j]\n",
    "\n",
    "# for m만큼 반복:\n",
    "#   질의에 대한 결과 계산 및 출력\n",
    "#       결과 = D[x2][y2] - D[x1-1][y2] - D[x2][y1-1] + D[x1-1][y1-1]\n"
   ]
  },
  {
   "cell_type": "code",
   "execution_count": null,
   "metadata": {},
   "outputs": [],
   "source": [
    "import sys\n",
    "input = sys.stdin.readline\n",
    "n, m = map(int, input().split())\n",
    "A = [[0] * (n + 1)]\n",
    "D = [[0] * (n + 1) for _ in range(n + 1)]\n",
    "\n",
    "for i in range(n):\n",
    "    A_row = [0] + [int(x) for x in input().split()]\n",
    "    A.append(A_row)\n",
    "\n",
    "for i in range(1, n + 1):\n",
    "    for j in range(1, n + 1):\n",
    "        # 합 배열 구하기\n",
    "        D[i][j] = D[i][j-1] + D[i-1][j] - D[i-1][j-1] + A[i][j]\n",
    "\n",
    "for _ in range(m):\n",
    "    x1, y1, x2, y2 = map(int, input().split())\n",
    "    # 구간 합 배열로 질의에 답변\n",
    "    result = D[x2][y2] - D[x1-1][y2] - D[x2][y1-1] + D[x1-1][y1-1]\n",
    "    print(result)"
   ]
  }
 ],
 "metadata": {
  "kernelspec": {
   "display_name": "Python 3",
   "language": "python",
   "name": "python3"
  },
  "language_info": {
   "codemirror_mode": {
    "name": "ipython",
    "version": 3
   },
   "file_extension": ".py",
   "mimetype": "text/x-python",
   "name": "python",
   "nbconvert_exporter": "python",
   "pygments_lexer": "ipython3",
   "version": "3.10.11"
  }
 },
 "nbformat": 4,
 "nbformat_minor": 2
}
