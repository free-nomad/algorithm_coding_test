{
 "cells": [
  {
   "cell_type": "code",
   "execution_count": 1,
   "metadata": {},
   "outputs": [],
   "source": [
    "# 슈도코드 작성하기\n",
    "# suNo(숫자 개수), quizNo(질의 개수)\n",
    "# numbers 변수에 숫자 데이터 저장\n",
    "# prefix_sum 합 배열 변수 선언\n",
    "# temp 변수 선언\n",
    "\n",
    "# for 저장한 숫자 데이터 차례대로 탐색:\n",
    "    # temp에 현재 숫자 데이터 더해 주기\n",
    "    # 합 배열에 temp값 저장\n",
    "\n",
    "# for 질의 개수만큼 반복:\n",
    "    # 질의 범위 받기 (s ~ e)\n",
    "    # 구간 합 출력하기(prefix_sum[e] - prefix_sum[s - 1])"
   ]
  },
  {
   "cell_type": "code",
   "execution_count": 2,
   "metadata": {},
   "outputs": [],
   "source": [
    "# 코드 구현하기\n",
    "import sys\n",
    "input = sys.stdin.readline\n",
    "suNo, quizNo = map(int, input().split())\n",
    "numbers = list(map(int, input().split()))\n",
    "prefix_sum = [0]\n",
    "temp = 0\n",
    "\n",
    "for i in numbers:\n",
    "    temp = temp + i\n",
    "    prefix_sum.append(temp)\n",
    "\n",
    "for i in range(quizNo):\n",
    "    s, e = map(int, input().split())\n",
    "    print(prefix_sum[e] - prefix_sum[s - 1])"
   ]
  },
  {
   "cell_type": "code",
   "execution_count": null,
   "metadata": {},
   "outputs": [],
   "source": []
  }
 ],
 "metadata": {
  "kernelspec": {
   "display_name": "Python 3",
   "language": "python",
   "name": "python3"
  },
  "language_info": {
   "codemirror_mode": {
    "name": "ipython",
    "version": 3
   },
   "file_extension": ".py",
   "mimetype": "text/x-python",
   "name": "python",
   "nbconvert_exporter": "python",
   "pygments_lexer": "ipython3",
   "version": "3.10.11"
  }
 },
 "nbformat": 4,
 "nbformat_minor": 2
}
