{
 "cells": [
  {
   "cell_type": "code",
   "execution_count": 1,
   "metadata": {},
   "outputs": [],
   "source": [
    "# 슈도코드 작성하기\n",
    "# mylist에 점수 정보 저장\n",
    "# mymax에 mylist 정보 중 최댓값 저장\n",
    "# sum에 mylist 모든 데이터 값 더하기\n",
    "# sum * 100 / mymax / n 출력"
   ]
  },
  {
   "cell_type": "code",
   "execution_count": 2,
   "metadata": {},
   "outputs": [
    {
     "name": "stdout",
     "output_type": "stream",
     "text": [
      "75.0\n"
     ]
    }
   ],
   "source": [
    "# 코드 구현하기\n",
    "n = input()\n",
    "mylist = list(map(int, input().split()))\n",
    "mymax = max(mylist)\n",
    "sum = sum(mylist)\n",
    "# 한 과목과 관련된 수식을 총합한 후 관련 수식으로 변환해 로직을 간단하게 할 수 있음\n",
    "print(sum * 100 / mymax / int(n))"
   ]
  }
 ],
 "metadata": {
  "kernelspec": {
   "display_name": "Python 3",
   "language": "python",
   "name": "python3"
  },
  "language_info": {
   "codemirror_mode": {
    "name": "ipython",
    "version": 3
   },
   "file_extension": ".py",
   "mimetype": "text/x-python",
   "name": "python",
   "nbconvert_exporter": "python",
   "pygments_lexer": "ipython3",
   "version": "3.10.11"
  }
 },
 "nbformat": 4,
 "nbformat_minor": 2
}
